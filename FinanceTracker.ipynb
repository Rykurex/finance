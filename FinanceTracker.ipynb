{
 "cells": [
  {
   "cell_type": "code",
   "execution_count": 1,
   "id": "79241fd3",
   "metadata": {},
   "outputs": [],
   "source": [
    "#All required inputs\n",
    "\n",
    "#Salary\n",
    "my_salary = 180000\n",
    "\n",
    "#Input Pension %s - Salary Sacrifice Scheme\n",
    "my_pension_pct = 0.06\n",
    "employer_pension_pct = 0.15\n",
    "\n",
    "#Input other Salary Sacrifice\n",
    "my_sal_sac_monthly = 150\n",
    "my_sal_sac_annual = my_sal_sac_monthly * 12\n",
    "\n",
    "\n",
    "#Tax & NI info\n",
    "\n",
    "#Input Tax Code\n",
    "my_tax_code = 1257\n",
    "\n",
    "#Income Tax\n",
    "basic_rate_upper = 37700\n",
    "higher_rate_upper = 125140\n",
    "tax_allowance_th = 100000\n",
    "# additional_rate_taxable is any remaining taxable income over 125,140\n",
    "basic_rate_pct = 0.2\n",
    "higher_rate_pct = 0.4\n",
    "additional_rate_pct = 0.45\n",
    "\n",
    "#National Insurance\n",
    "ni_primary_th = 12570\n",
    "ni_uel_th = 50270\n",
    "\n",
    "ni_primary_pct = 0.12\n",
    "ni_uel_pct = 0.02\n",
    "\n",
    "\n",
    "#Student Loan info\n",
    "\n",
    "#Plan 1\n",
    "sl_plan1_th = 22015\n",
    "sl_plan1_pct = 0.09\n",
    "\n",
    "#Plan 2\n",
    "sl_plan2_th = 27295\n",
    "sl_plan2_pct = 0.09\n",
    "\n",
    "#Plan 4\n",
    "sl_plan4_th = 27660\n",
    "sl_plan4_pct = 0.09\n",
    "\n",
    "#Plan 5\n",
    "sl_plan5_th = 25000\n",
    "sl_plan5_pct = 0.09\n",
    "\n",
    "#Postgrad\n",
    "sl_postgrad_th = 21000\n",
    "sl_postgrad_pct = 0.06\n",
    "\n"
   ]
  },
  {
   "cell_type": "code",
   "execution_count": 2,
   "id": "5503a38a",
   "metadata": {},
   "outputs": [],
   "source": [
    "def calc_pension(my_salary, my_pension_pct, employer_pension_pct):\n",
    "    #Takes required inputs to calculate pension contributions from\n",
    "    #Employee, Employer, and calculates Total\n",
    "    my_pension_cont = my_salary * my_pension_pct\n",
    "    employer_pension_cont = my_salary * employer_pension_pct\n",
    "    total_pension_pct = my_pension_pct + employer_pension_pct\n",
    "    total_pension_cont = my_salary * total_pension_pct\n",
    "    \n",
    "    return my_pension_cont, employer_pension_cont, total_pension_cont"
   ]
  },
  {
   "cell_type": "code",
   "execution_count": 3,
   "id": "b9362777",
   "metadata": {
    "scrolled": true
   },
   "outputs": [
    {
     "name": "stdout",
     "output_type": "stream",
     "text": [
      "10800.0\n",
      "27000.0\n",
      "37800.0\n"
     ]
    }
   ],
   "source": [
    "my_pension_cont, employer_pension_cont, total_pension_cont = calc_pension(my_salary, my_pension_pct, employer_pension_pct)\n",
    "pension_conts = [my_pension_cont, employer_pension_cont, total_pension_cont]\n",
    "for contribution in pension_conts:\n",
    "    print(contribution)"
   ]
  },
  {
   "cell_type": "code",
   "execution_count": 4,
   "id": "ebd3f36f",
   "metadata": {},
   "outputs": [],
   "source": [
    "def calc_net_of_sal_sac(my_salary, my_pension_cont, my_sal_sac_annual):\n",
    "    #Calculates pre-tax income, net of salary sacrifice\n",
    "    net_of_sal_sac = my_salary - (my_pension_cont + my_sal_sac_annual)\n",
    "    return net_of_sal_sac"
   ]
  },
  {
   "cell_type": "code",
   "execution_count": 5,
   "id": "0ca95764",
   "metadata": {},
   "outputs": [
    {
     "name": "stdout",
     "output_type": "stream",
     "text": [
      "167400.0\n"
     ]
    }
   ],
   "source": [
    "net_of_sal_sac = calc_net_of_sal_sac(my_salary, my_pension_cont, my_sal_sac_annual)\n",
    "print(net_of_sal_sac)"
   ]
  },
  {
   "cell_type": "code",
   "execution_count": 6,
   "id": "73e15f7d",
   "metadata": {},
   "outputs": [],
   "source": [
    "def calc_tax_free_allowance(net_of_sal_sac, my_tax_code, tax_allowance_th, higher_rate_upper):\n",
    "    #Calculates personal tax allowance using pre-tax income, net of salary sacrifice\n",
    "    #Which is reduced by £1 for every £2 earned over the tax allownace threshold\n",
    "    default_tax_free_allowance = my_tax_code * 10\n",
    "    print(\"Default tax free allowance based on tax code: \", default_tax_free_allowance)\n",
    "    \n",
    "    if net_of_sal_sac > tax_allowance_th:\n",
    "        #Reduce tax free allowance by £1 for every £2 over higher rate th, until 0.\n",
    "        delta = net_of_sal_sac - tax_allowance_th\n",
    "        reduction = delta // 2\n",
    "        print(\"Income Net of Salary Sacrifice is greater than the personal allowance threshold of: \", \n",
    "              tax_allowance_th, \" by: \", reduction)\n",
    "        \n",
    "        if reduction < default_tax_free_allowance:\n",
    "            my_tax_free_allowance = default_tax_free_allowance - reduction\n",
    "            print(\"Reducing your personal allowance by: \", delta)\n",
    "        \n",
    "        else:\n",
    "            my_tax_free_allowance = 0\n",
    "            print(\"Reducing your personal allowance by: \", default_tax_free_allowance)\n",
    "            \n",
    "    print(\"Your tax free allowance is: \", my_tax_free_allowance)\n",
    "    \n",
    "    return my_tax_free_allowance\n",
    "    "
   ]
  },
  {
   "cell_type": "code",
   "execution_count": 7,
   "id": "5d7681b1",
   "metadata": {
    "scrolled": true
   },
   "outputs": [
    {
     "name": "stdout",
     "output_type": "stream",
     "text": [
      "Default tax free allowance based on tax code:  12570\n",
      "Income Net of Salary Sacrifice is greater than the personal allowance threshold of:  100000  by:  33700.0\n",
      "Reducing your personal allowance by:  12570\n",
      "Your tax free allowance is:  0\n"
     ]
    }
   ],
   "source": [
    "my_tax_free_allowance = calc_tax_free_allowance(net_of_sal_sac, my_tax_code, tax_allowance_th, higher_rate_upper)"
   ]
  },
  {
   "cell_type": "code",
   "execution_count": 8,
   "id": "8fce7b76",
   "metadata": {},
   "outputs": [],
   "source": [
    "def calc_actual_taxable_income(net_of_sal_sac, my_tax_free_allowance):\n",
    "    actual_taxable_income = net_of_sal_sac - my_tax_free_allowance\n",
    "    return actual_taxable_income"
   ]
  },
  {
   "cell_type": "code",
   "execution_count": 9,
   "id": "20a52622",
   "metadata": {},
   "outputs": [
    {
     "name": "stdout",
     "output_type": "stream",
     "text": [
      "You will pay tax on:  167400.0\n"
     ]
    }
   ],
   "source": [
    "actual_taxable_income = calc_actual_taxable_income(net_of_sal_sac, my_tax_free_allowance)\n",
    "print(\"You will pay tax on: \", actual_taxable_income)"
   ]
  },
  {
   "cell_type": "code",
   "execution_count": 10,
   "id": "9c49703d",
   "metadata": {},
   "outputs": [],
   "source": [
    "#Calculate Tax\n",
    "def calc_tax(my_tax_free_allowance, actual_taxable_income, basic_rate_upper, basic_rate_pct,\n",
    "            net_of_sal_sac, additional_rate_pct, higher_rate_upper, higher_rate_pct):\n",
    "    \n",
    "    #0% Tax paid up to the tax free allownace\n",
    "    print(\"You pay 0% tax up to your tax free allowance of: \", my_tax_free_allowance)\n",
    "    \n",
    "    #20% Tax up to the basic rate upper limit, after the allowance    \n",
    "    if actual_taxable_income >= basic_rate_upper:\n",
    "        basic_rate_tax = basic_rate_upper * basic_rate_pct\n",
    "        print(\"You will pay \", basic_rate_pct*100, \"% tax on \", basic_rate_upper, \", which is: \", basic_rate_tax)\n",
    "    else:\n",
    "        basic_rate_tax = actual_taxable_income * basic_rate_pct  \n",
    "        print(\"You will pay \", basic_rate_pct*100, \"% tax on \", basic_rate_upper, \", which is: \", basic_rate_tax)\n",
    "    \n",
    "    #40% Tax up to the higher rate upper limit - not lowered by the allowance\n",
    "    my_higher_rate_lower_limit = basic_rate_upper + my_tax_free_allowance\n",
    "    if net_of_sal_sac > my_higher_rate_lower_limit:\n",
    "        if net_of_sal_sac <= higher_rate_upper:\n",
    "            higher_rate_taxable = net_of_sal_sac - my_higher_rate_lower_limit\n",
    "            higher_rate_tax = higher_rate_taxable * higher_rate_pct\n",
    "            print(\"You will pay \", higher_rate_pct*100, \"% tax on \", higher_rate_taxable, \", which is: \", higher_rate_tax)\n",
    "        else:\n",
    "            higher_rate_taxable = higher_rate_upper - my_higher_rate_lower_limit\n",
    "            higher_rate_tax = higher_rate_taxable * higher_rate_pct\n",
    "            print(\"You will pay \", higher_rate_pct*100, \"% tax on \", higher_rate_taxable, \", which is: \", higher_rate_tax)\n",
    "    \n",
    "    #45% Tax on anything over the higher rate upper limit - not reduced by the allowance\n",
    "    if net_of_sal_sac > higher_rate_upper:\n",
    "        additional_rate_taxable = net_of_sal_sac - higher_rate_upper\n",
    "        additional_rate_tax = additional_rate_taxable * additional_rate_pct\n",
    "        print(\"You will pay \", additional_rate_pct*100, \"% tax on \", additional_rate_taxable, \", which is: \",\n",
    "              additional_rate_tax)"
   ]
  },
  {
   "cell_type": "code",
   "execution_count": 11,
   "id": "a1bca43f",
   "metadata": {},
   "outputs": [
    {
     "name": "stdout",
     "output_type": "stream",
     "text": [
      "You pay 0% tax up to your tax free allowance of:  0\n",
      "You will pay  20.0 % tax on  37700 , which is:  7540.0\n",
      "You will pay  40.0 % tax on  87440 , which is:  34976.0\n",
      "You will pay  45.0 % tax on  42260.0 , which is:  19017.0\n"
     ]
    }
   ],
   "source": [
    "calc_tax(my_tax_free_allowance, actual_taxable_income, basic_rate_upper, basic_rate_pct,\n",
    "            net_of_sal_sac, additional_rate_pct, higher_rate_upper, higher_rate_pct)"
   ]
  },
  {
   "cell_type": "code",
   "execution_count": 12,
   "id": "238ab5c1",
   "metadata": {},
   "outputs": [],
   "source": [
    "def calc_ni(ni_primary_th, ni_uel_th, net_of_sal_sac, ni_primary_pct, ni_uel_pct):\n",
    "    primary_ni_taxable = ni_uel_th - ni_primary_th\n",
    "    upper_ni_taxable = net_of_sal_sac - ni_uel_th\n",
    "    \n",
    "    if net_of_sal_sac < ni_uel_th:\n",
    "        my_ni_primary = (net_of_sal_sac - ni_primary_th) * ni_primary_pct\n",
    "    else:\n",
    "        my_ni_primary = primary_ni_taxable * ni_primary_pct\n",
    "        my_ni_upper = upper_ni_taxable * ni_uel_pct\n",
    "    \n",
    "    return my_ni_primary, my_ni_upper"
   ]
  },
  {
   "cell_type": "code",
   "execution_count": 16,
   "id": "b6c5863e",
   "metadata": {},
   "outputs": [
    {
     "name": "stdout",
     "output_type": "stream",
     "text": [
      "4524.0 2342.6\n"
     ]
    }
   ],
   "source": [
    "my_ni_primary, my_ni_upper = calc_ni(ni_primary_th, ni_uel_th, net_of_sal_sac, ni_primary_pct, ni_uel_pct)\n",
    "print(my_ni_primary, my_ni_upper)"
   ]
  },
  {
   "cell_type": "code",
   "execution_count": 14,
   "id": "4cdd0909",
   "metadata": {},
   "outputs": [],
   "source": [
    "#Calculate Student Loan"
   ]
  },
  {
   "cell_type": "code",
   "execution_count": 15,
   "id": "60c06952",
   "metadata": {},
   "outputs": [],
   "source": [
    "#Calculate Net Pay"
   ]
  }
 ],
 "metadata": {
  "kernelspec": {
   "display_name": "Python 3 (ipykernel)",
   "language": "python",
   "name": "python3"
  },
  "language_info": {
   "codemirror_mode": {
    "name": "ipython",
    "version": 3
   },
   "file_extension": ".py",
   "mimetype": "text/x-python",
   "name": "python",
   "nbconvert_exporter": "python",
   "pygments_lexer": "ipython3",
   "version": "3.9.7"
  }
 },
 "nbformat": 4,
 "nbformat_minor": 5
}
